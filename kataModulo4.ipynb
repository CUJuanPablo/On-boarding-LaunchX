{
 "cells": [
  {
   "cell_type": "markdown",
   "metadata": {},
   "source": [
    "## Kata Modulo4\n"
   ]
  },
  {
   "cell_type": "code",
   "execution_count": 1,
   "metadata": {},
   "outputs": [
    {
     "data": {
      "text/plain": [
       "'The Moon has no atmosphere.No sound can be heard on the Moon.'"
      ]
     },
     "execution_count": 1,
     "metadata": {},
     "output_type": "execute_result"
    }
   ],
   "source": [
    "fact = 'The Moon has no atmosphere.'\n",
    "fact + 'No sound can be heard on the Moon.'\n"
   ]
  },
  {
   "cell_type": "code",
   "execution_count": 2,
   "metadata": {},
   "outputs": [
    {
     "name": "stdout",
     "output_type": "stream",
     "text": [
      "Facts about the Moon:\n",
      "  There is no atmosphere.\n",
      "  There is no sound.\n"
     ]
    }
   ],
   "source": [
    "multiline = \"\"\"Facts about the Moon:\n",
    "  There is no atmosphere.\n",
    "  There is no sound.\"\"\"\n",
    "print(multiline)\n"
   ]
  },
  {
   "cell_type": "code",
   "execution_count": 3,
   "metadata": {},
   "outputs": [
    {
     "data": {
      "text/plain": [
       "'Temperatures And Facts About The Moon'"
      ]
     },
     "execution_count": 3,
     "metadata": {},
     "output_type": "execute_result"
    }
   ],
   "source": [
    "'temperatures and facts about the moon'.title()"
   ]
  },
  {
   "cell_type": "code",
   "execution_count": 79,
   "metadata": {},
   "outputs": [
    {
     "name": "stdout",
     "output_type": "stream",
     "text": [
      " \n",
      "On average, the Moon moves 4cm away from the Earth every year\n",
      " The highest daylight temperature of the Moon is 127 Celsius \n"
     ]
    }
   ],
   "source": [
    "text = \"\"\"Interesting facts about the Moon. The Moon is Earth's only satellite. There are several interesting facts about the Moon and how it affects life here on Earth. \n",
    "On average, the Moon moves 4cm away from the Earth every year. This yearly drift is not significant enough to cause immediate effects on Earth. The highest daylight temperature of the Moon is 127 C \"\"\"\n",
    "\n",
    "# print( text.split('.') , '\\n'  ) \n",
    "\n",
    "w = [ 'average', 'temperature', 'distance' ]\n",
    "\n",
    "for k in text.split('.'):\n",
    "    for p in w:\n",
    "        if p in k:\n",
    "            if k.find('C') > 0:\n",
    "                print( k.replace('C', 'Celsius') )\n",
    "            else:\n",
    "                print( k )\n",
    "        \n",
    "         \n",
    "\n"
   ]
  },
  {
   "cell_type": "markdown",
   "metadata": {},
   "source": [
    "Ejercisio 2\n",
    "\n"
   ]
  },
  {
   "cell_type": "code",
   "execution_count": 23,
   "metadata": {},
   "outputs": [
    {
     "name": "stdout",
     "output_type": "stream",
     "text": [
      " -----   Titulo de la lunita ----- \n",
      "  Nombre  : Moon\n",
      "  Gravedad: 1.6199999999999999 ms\n",
      "  Planet  : Earth \n",
      "\n",
      "\n"
     ]
    }
   ],
   "source": [
    "# Datos con los que vas a trabajar\n",
    "name = \"Moon\"\n",
    "gravity = 0.00162 *1000 # in kms\n",
    "planet = \"Earth\"\n",
    "\n",
    "content = \"\"\" -----   Titulo de la lunita ----- \n",
    "  Nombre  : {n}\n",
    "  Gravedad: {g} ms\n",
    "  Planet  : {p} \n",
    "\n",
    "\"\"\"\n",
    "\n",
    "print(content.format(n = name, g = gravity, p = planet))\n"
   ]
  }
 ],
 "metadata": {
  "interpreter": {
   "hash": "a93cb949746796c1b61d504f8682ad4ac6289eb066090b47ee1632081e8d61d9"
  },
  "kernelspec": {
   "display_name": "Python 3.9.10 64-bit (windows store)",
   "language": "python",
   "name": "python3"
  },
  "language_info": {
   "codemirror_mode": {
    "name": "ipython",
    "version": 3
   },
   "file_extension": ".py",
   "mimetype": "text/x-python",
   "name": "python",
   "nbconvert_exporter": "python",
   "pygments_lexer": "ipython3",
   "version": "3.9.10"
  },
  "orig_nbformat": 4
 },
 "nbformat": 4,
 "nbformat_minor": 2
}
