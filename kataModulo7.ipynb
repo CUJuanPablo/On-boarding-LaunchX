{
 "cells": [
  {
   "cell_type": "markdown",
   "metadata": {},
   "source": [
    "## Kata modulo 7"
   ]
  },
  {
   "cell_type": "code",
   "execution_count": 3,
   "metadata": {},
   "outputs": [
    {
     "name": "stdout",
     "output_type": "stream",
     "text": [
      "ready\n",
      "['mercurio', 'tierra', 'marte']\n",
      "mercurio\n",
      "tierra\n",
      "marte\n"
     ]
    }
   ],
   "source": [
    "newP = ''\n",
    "\n",
    "planets = []\n",
    "\n",
    "while newP != 'done':\n",
    "    if newP:\n",
    "        planets.append(newP)\n",
    "    newP = input('newPlanet')\n",
    "\n",
    "print('ready')\n",
    "print(planets)\n",
    "\n",
    "for p in planets:\n",
    "    print(p)"
   ]
  }
 ],
 "metadata": {
  "interpreter": {
   "hash": "a93cb949746796c1b61d504f8682ad4ac6289eb066090b47ee1632081e8d61d9"
  },
  "kernelspec": {
   "display_name": "Python 3.9.10 64-bit (windows store)",
   "language": "python",
   "name": "python3"
  },
  "language_info": {
   "codemirror_mode": {
    "name": "ipython",
    "version": 3
   },
   "file_extension": ".py",
   "mimetype": "text/x-python",
   "name": "python",
   "nbconvert_exporter": "python",
   "pygments_lexer": "ipython3",
   "version": "3.9.10"
  },
  "orig_nbformat": 4
 },
 "nbformat": 4,
 "nbformat_minor": 2
}
