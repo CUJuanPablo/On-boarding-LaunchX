{
 "cells": [
  {
   "cell_type": "markdown",
   "metadata": {},
   "source": [
    "## Kata modulo 3\n"
   ]
  },
  {
   "cell_type": "code",
   "execution_count": 1,
   "metadata": {},
   "outputs": [
    {
     "name": "stdout",
     "output_type": "stream",
     "text": [
      "93\n"
     ]
    }
   ],
   "source": [
    "a = 93\n",
    "b = 27\n",
    "if a >= b:\n",
    "    print(a)"
   ]
  },
  {
   "cell_type": "code",
   "execution_count": 5,
   "metadata": {},
   "outputs": [
    {
     "name": "stdout",
     "output_type": "stream",
     "text": [
      "68\n"
     ]
    }
   ],
   "source": [
    "a = 34\n",
    "b = 34\n",
    "if a == 34 & b == 34:\n",
    "    print (a + b)\n",
    "else :\n",
    "    print('no son iguales')"
   ]
  },
  {
   "cell_type": "code",
   "execution_count": 6,
   "metadata": {},
   "outputs": [
    {
     "name": "stdout",
     "output_type": "stream",
     "text": [
      "Advertencia\n"
     ]
    }
   ],
   "source": [
    "AsteroidSpedd= 49\n",
    "\n",
    "# + 25 km/s advertencia\n",
    "\n",
    "if AsteroidSpedd > 25:\n",
    "    print('Advertencia de muerte inminente')"
   ]
  },
  {
   "cell_type": "code",
   "execution_count": 9,
   "metadata": {},
   "outputs": [
    {
     "name": "stdout",
     "output_type": "stream",
     "text": [
      "Advertencia no tan inminente\n"
     ]
    }
   ],
   "source": [
    "AsteroidSpedd= 18\n",
    "\n",
    "if AsteroidSpedd >= 20:\n",
    "    print('Advertencia')\n",
    "else:\n",
    "    print('Advertencia no tan inminente')"
   ]
  },
  {
   "cell_type": "code",
   "execution_count": 17,
   "metadata": {},
   "outputs": [
    {
     "name": "stdout",
     "output_type": "stream",
     "text": [
      "Rayo de luz visible\n"
     ]
    }
   ],
   "source": [
    "AsteroidSpedd= 19  # <= 20 luz \n",
    "                     # +20 \n",
    "Dimension = 1000       # de 25 a 1000 es peligroso\n",
    "\n",
    "if AsteroidSpedd > 20 and Dimension >= 25:\n",
    "    print ('TODOS VAMOS A MORIR !!')\n",
    "elif AsteroidSpedd <= 20:\n",
    "        print('Rayo de luz visible')\n",
    "elif AsteroidSpedd >= 19 & Dimension > 25:\n",
    "        print('Advertencia no tan inminente')\n",
    "else : print('No hay problema ')"
   ]
  }
 ],
 "metadata": {
  "interpreter": {
   "hash": "a93cb949746796c1b61d504f8682ad4ac6289eb066090b47ee1632081e8d61d9"
  },
  "kernelspec": {
   "display_name": "Python 3.9.10 64-bit (windows store)",
   "language": "python",
   "name": "python3"
  },
  "language_info": {
   "codemirror_mode": {
    "name": "ipython",
    "version": 3
   },
   "file_extension": ".py",
   "mimetype": "text/x-python",
   "name": "python",
   "nbconvert_exporter": "python",
   "pygments_lexer": "ipython3",
   "version": "3.9.10"
  },
  "orig_nbformat": 4
 },
 "nbformat": 4,
 "nbformat_minor": 2
}
